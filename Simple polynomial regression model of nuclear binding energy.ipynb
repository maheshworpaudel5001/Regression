{
 "cells": [
  {
   "cell_type": "code",
   "execution_count": 430,
   "id": "e2f28c3b",
   "metadata": {
    "ExecuteTime": {
     "end_time": "2022-06-21T01:28:02.358789Z",
     "start_time": "2022-06-21T01:28:02.353929Z"
    }
   },
   "outputs": [],
   "source": [
    "import pandas as pd"
   ]
  },
  {
   "cell_type": "markdown",
   "id": "ce38c2c1",
   "metadata": {},
   "source": [
    "First we import the data table which is in ASCII format saved as a .txt file. The actual table we want only starts from the 40th row, and we will only use specific columns from that table which are listed below."
   ]
  },
  {
   "cell_type": "code",
   "execution_count": 431,
   "id": "4b934866",
   "metadata": {
    "ExecuteTime": {
     "end_time": "2022-06-21T01:28:03.456319Z",
     "start_time": "2022-06-21T01:28:03.377254Z"
    }
   },
   "outputs": [
    {
     "data": {
      "text/html": [
       "<div>\n",
       "<style scoped>\n",
       "    .dataframe tbody tr th:only-of-type {\n",
       "        vertical-align: middle;\n",
       "    }\n",
       "\n",
       "    .dataframe tbody tr th {\n",
       "        vertical-align: top;\n",
       "    }\n",
       "\n",
       "    .dataframe thead th {\n",
       "        text-align: right;\n",
       "    }\n",
       "</style>\n",
       "<table border=\"1\" class=\"dataframe\">\n",
       "  <thead>\n",
       "    <tr style=\"text-align: right;\">\n",
       "      <th></th>\n",
       "      <th>N</th>\n",
       "      <th>Z</th>\n",
       "      <th>A</th>\n",
       "      <th>Binding Energy/A</th>\n",
       "    </tr>\n",
       "  </thead>\n",
       "  <tbody>\n",
       "    <tr>\n",
       "      <th>0</th>\n",
       "      <td>1</td>\n",
       "      <td>0</td>\n",
       "      <td>1.0</td>\n",
       "      <td>0.0</td>\n",
       "    </tr>\n",
       "    <tr>\n",
       "      <th>1</th>\n",
       "      <td>0</td>\n",
       "      <td>1</td>\n",
       "      <td>NaN</td>\n",
       "      <td>0.0</td>\n",
       "    </tr>\n",
       "    <tr>\n",
       "      <th>2</th>\n",
       "      <td>1</td>\n",
       "      <td>1</td>\n",
       "      <td>2.0</td>\n",
       "      <td>1112.283</td>\n",
       "    </tr>\n",
       "    <tr>\n",
       "      <th>3</th>\n",
       "      <td>2</td>\n",
       "      <td>1</td>\n",
       "      <td>3.0</td>\n",
       "      <td>2827.265</td>\n",
       "    </tr>\n",
       "    <tr>\n",
       "      <th>4</th>\n",
       "      <td>1</td>\n",
       "      <td>2</td>\n",
       "      <td>NaN</td>\n",
       "      <td>2572.680</td>\n",
       "    </tr>\n",
       "    <tr>\n",
       "      <th>...</th>\n",
       "      <td>...</td>\n",
       "      <td>...</td>\n",
       "      <td>...</td>\n",
       "      <td>...</td>\n",
       "    </tr>\n",
       "    <tr>\n",
       "      <th>3431</th>\n",
       "      <td>76</td>\n",
       "      <td>17</td>\n",
       "      <td>NaN</td>\n",
       "      <td>7095#</td>\n",
       "    </tr>\n",
       "    <tr>\n",
       "      <th>3432</th>\n",
       "      <td>75</td>\n",
       "      <td>18</td>\n",
       "      <td>NaN</td>\n",
       "      <td>7077#</td>\n",
       "    </tr>\n",
       "    <tr>\n",
       "      <th>3433</th>\n",
       "      <td>77</td>\n",
       "      <td>17</td>\n",
       "      <td>94.0</td>\n",
       "      <td>7092#</td>\n",
       "    </tr>\n",
       "    <tr>\n",
       "      <th>3434</th>\n",
       "      <td>76</td>\n",
       "      <td>18</td>\n",
       "      <td>NaN</td>\n",
       "      <td>7079#</td>\n",
       "    </tr>\n",
       "    <tr>\n",
       "      <th>3435</th>\n",
       "      <td>77</td>\n",
       "      <td>18</td>\n",
       "      <td>95.0</td>\n",
       "      <td>7075#</td>\n",
       "    </tr>\n",
       "  </tbody>\n",
       "</table>\n",
       "<p>3436 rows × 4 columns</p>\n",
       "</div>"
      ],
      "text/plain": [
       "       N   Z     A Binding Energy/A\n",
       "0      1   0   1.0              0.0\n",
       "1      0   1   NaN              0.0\n",
       "2      1   1   2.0         1112.283\n",
       "3      2   1   3.0         2827.265\n",
       "4      1   2   NaN         2572.680\n",
       "...   ..  ..   ...              ...\n",
       "3431  76  17   NaN            7095#\n",
       "3432  75  18   NaN            7077#\n",
       "3433  77  17  94.0            7092#\n",
       "3434  76  18   NaN            7079#\n",
       "3435  77  18  95.0            7075#\n",
       "\n",
       "[3436 rows x 4 columns]"
      ]
     },
     "execution_count": 431,
     "metadata": {},
     "output_type": "execute_result"
    }
   ],
   "source": [
    "df = pd.read_fwf('/Users/maheshworpaudel/Downloads/mass16round.txt', \n",
    "                 skiprows=39,\n",
    "                 usecols=(1,2,3,8),\n",
    "                 names=('N', 'Z', 'A', 'Binding Energy/A'))\n",
    "df"
   ]
  },
  {
   "cell_type": "markdown",
   "id": "e35248d6",
   "metadata": {},
   "source": [
    "We can see that column number A has NaN values where the values have not been assigned. Let us drop those entries."
   ]
  },
  {
   "cell_type": "code",
   "execution_count": 432,
   "id": "6e90a417",
   "metadata": {
    "ExecuteTime": {
     "end_time": "2022-06-21T01:28:04.926879Z",
     "start_time": "2022-06-21T01:28:04.910469Z"
    }
   },
   "outputs": [],
   "source": [
    "df = df.dropna()"
   ]
  },
  {
   "cell_type": "code",
   "execution_count": 433,
   "id": "d167e6a9",
   "metadata": {
    "ExecuteTime": {
     "end_time": "2022-06-21T01:28:06.713580Z",
     "start_time": "2022-06-21T01:28:06.692115Z"
    }
   },
   "outputs": [
    {
     "data": {
      "text/html": [
       "<div>\n",
       "<style scoped>\n",
       "    .dataframe tbody tr th:only-of-type {\n",
       "        vertical-align: middle;\n",
       "    }\n",
       "\n",
       "    .dataframe tbody tr th {\n",
       "        vertical-align: top;\n",
       "    }\n",
       "\n",
       "    .dataframe thead th {\n",
       "        text-align: right;\n",
       "    }\n",
       "</style>\n",
       "<table border=\"1\" class=\"dataframe\">\n",
       "  <thead>\n",
       "    <tr style=\"text-align: right;\">\n",
       "      <th></th>\n",
       "      <th>N</th>\n",
       "      <th>Z</th>\n",
       "      <th>A</th>\n",
       "      <th>Binding Energy/A</th>\n",
       "    </tr>\n",
       "  </thead>\n",
       "  <tbody>\n",
       "    <tr>\n",
       "      <th>0</th>\n",
       "      <td>1</td>\n",
       "      <td>0</td>\n",
       "      <td>1.0</td>\n",
       "      <td>0.0</td>\n",
       "    </tr>\n",
       "    <tr>\n",
       "      <th>2</th>\n",
       "      <td>1</td>\n",
       "      <td>1</td>\n",
       "      <td>2.0</td>\n",
       "      <td>1112.283</td>\n",
       "    </tr>\n",
       "    <tr>\n",
       "      <th>3</th>\n",
       "      <td>2</td>\n",
       "      <td>1</td>\n",
       "      <td>3.0</td>\n",
       "      <td>2827.265</td>\n",
       "    </tr>\n",
       "    <tr>\n",
       "      <th>6</th>\n",
       "      <td>3</td>\n",
       "      <td>1</td>\n",
       "      <td>4.0</td>\n",
       "      <td>1720</td>\n",
       "    </tr>\n",
       "    <tr>\n",
       "      <th>9</th>\n",
       "      <td>4</td>\n",
       "      <td>1</td>\n",
       "      <td>5.0</td>\n",
       "      <td>1336</td>\n",
       "    </tr>\n",
       "    <tr>\n",
       "      <th>...</th>\n",
       "      <td>...</td>\n",
       "      <td>...</td>\n",
       "      <td>...</td>\n",
       "      <td>...</td>\n",
       "    </tr>\n",
       "    <tr>\n",
       "      <th>3425</th>\n",
       "      <td>76</td>\n",
       "      <td>15</td>\n",
       "      <td>91.0</td>\n",
       "      <td>7130#</td>\n",
       "    </tr>\n",
       "    <tr>\n",
       "      <th>3428</th>\n",
       "      <td>76</td>\n",
       "      <td>16</td>\n",
       "      <td>92.0</td>\n",
       "      <td>7116#</td>\n",
       "    </tr>\n",
       "    <tr>\n",
       "      <th>3430</th>\n",
       "      <td>77</td>\n",
       "      <td>16</td>\n",
       "      <td>93.0</td>\n",
       "      <td>7111#</td>\n",
       "    </tr>\n",
       "    <tr>\n",
       "      <th>3433</th>\n",
       "      <td>77</td>\n",
       "      <td>17</td>\n",
       "      <td>94.0</td>\n",
       "      <td>7092#</td>\n",
       "    </tr>\n",
       "    <tr>\n",
       "      <th>3435</th>\n",
       "      <td>77</td>\n",
       "      <td>18</td>\n",
       "      <td>95.0</td>\n",
       "      <td>7075#</td>\n",
       "    </tr>\n",
       "  </tbody>\n",
       "</table>\n",
       "<p>295 rows × 4 columns</p>\n",
       "</div>"
      ],
      "text/plain": [
       "       N   Z     A Binding Energy/A\n",
       "0      1   0   1.0              0.0\n",
       "2      1   1   2.0         1112.283\n",
       "3      2   1   3.0         2827.265\n",
       "6      3   1   4.0             1720\n",
       "9      4   1   5.0             1336\n",
       "...   ..  ..   ...              ...\n",
       "3425  76  15  91.0            7130#\n",
       "3428  76  16  92.0            7116#\n",
       "3430  77  16  93.0            7111#\n",
       "3433  77  17  94.0            7092#\n",
       "3435  77  18  95.0            7075#\n",
       "\n",
       "[295 rows x 4 columns]"
      ]
     },
     "execution_count": 433,
     "metadata": {},
     "output_type": "execute_result"
    }
   ],
   "source": [
    "df"
   ]
  },
  {
   "cell_type": "markdown",
   "id": "efd1707c",
   "metadata": {},
   "source": [
    "But we see that some of the binding energy per nucleon are not proper numbers. In fact the document says 'decimal point is replaced by # for (non-experimental) estimated values.' We will drop these values. To do that we will convert that column to numeric column which will render the illegal values to NaN, then we will drop the rows with NaN values."
   ]
  },
  {
   "cell_type": "code",
   "execution_count": 434,
   "id": "9dadd4cc",
   "metadata": {
    "ExecuteTime": {
     "end_time": "2022-06-21T01:28:08.311521Z",
     "start_time": "2022-06-21T01:28:08.305047Z"
    }
   },
   "outputs": [
    {
     "name": "stderr",
     "output_type": "stream",
     "text": [
      "/var/folders/vm/k3nb3s856jg_tk2_qtm8f8ch0000gn/T/ipykernel_3568/2242765098.py:1: SettingWithCopyWarning: \n",
      "A value is trying to be set on a copy of a slice from a DataFrame.\n",
      "Try using .loc[row_indexer,col_indexer] = value instead\n",
      "\n",
      "See the caveats in the documentation: https://pandas.pydata.org/pandas-docs/stable/user_guide/indexing.html#returning-a-view-versus-a-copy\n",
      "  df['Binding Energy/A'] = pd.to_numeric(df['Binding Energy/A'], errors='coerce')\n"
     ]
    }
   ],
   "source": [
    "df['Binding Energy/A'] = pd.to_numeric(df['Binding Energy/A'], errors='coerce')"
   ]
  },
  {
   "cell_type": "markdown",
   "id": "350669e2",
   "metadata": {},
   "source": [
    "You can see that the illegal values have been converted to NaN values."
   ]
  },
  {
   "cell_type": "code",
   "execution_count": 435,
   "id": "2ebc5f74",
   "metadata": {
    "ExecuteTime": {
     "end_time": "2022-06-21T01:28:09.768987Z",
     "start_time": "2022-06-21T01:28:09.747632Z"
    }
   },
   "outputs": [
    {
     "data": {
      "text/html": [
       "<div>\n",
       "<style scoped>\n",
       "    .dataframe tbody tr th:only-of-type {\n",
       "        vertical-align: middle;\n",
       "    }\n",
       "\n",
       "    .dataframe tbody tr th {\n",
       "        vertical-align: top;\n",
       "    }\n",
       "\n",
       "    .dataframe thead th {\n",
       "        text-align: right;\n",
       "    }\n",
       "</style>\n",
       "<table border=\"1\" class=\"dataframe\">\n",
       "  <thead>\n",
       "    <tr style=\"text-align: right;\">\n",
       "      <th></th>\n",
       "      <th>N</th>\n",
       "      <th>Z</th>\n",
       "      <th>A</th>\n",
       "      <th>Binding Energy/A</th>\n",
       "    </tr>\n",
       "  </thead>\n",
       "  <tbody>\n",
       "    <tr>\n",
       "      <th>0</th>\n",
       "      <td>1</td>\n",
       "      <td>0</td>\n",
       "      <td>1.0</td>\n",
       "      <td>0.000</td>\n",
       "    </tr>\n",
       "    <tr>\n",
       "      <th>2</th>\n",
       "      <td>1</td>\n",
       "      <td>1</td>\n",
       "      <td>2.0</td>\n",
       "      <td>1112.283</td>\n",
       "    </tr>\n",
       "    <tr>\n",
       "      <th>3</th>\n",
       "      <td>2</td>\n",
       "      <td>1</td>\n",
       "      <td>3.0</td>\n",
       "      <td>2827.265</td>\n",
       "    </tr>\n",
       "    <tr>\n",
       "      <th>6</th>\n",
       "      <td>3</td>\n",
       "      <td>1</td>\n",
       "      <td>4.0</td>\n",
       "      <td>1720.000</td>\n",
       "    </tr>\n",
       "    <tr>\n",
       "      <th>9</th>\n",
       "      <td>4</td>\n",
       "      <td>1</td>\n",
       "      <td>5.0</td>\n",
       "      <td>1336.000</td>\n",
       "    </tr>\n",
       "    <tr>\n",
       "      <th>...</th>\n",
       "      <td>...</td>\n",
       "      <td>...</td>\n",
       "      <td>...</td>\n",
       "      <td>...</td>\n",
       "    </tr>\n",
       "    <tr>\n",
       "      <th>3425</th>\n",
       "      <td>76</td>\n",
       "      <td>15</td>\n",
       "      <td>91.0</td>\n",
       "      <td>NaN</td>\n",
       "    </tr>\n",
       "    <tr>\n",
       "      <th>3428</th>\n",
       "      <td>76</td>\n",
       "      <td>16</td>\n",
       "      <td>92.0</td>\n",
       "      <td>NaN</td>\n",
       "    </tr>\n",
       "    <tr>\n",
       "      <th>3430</th>\n",
       "      <td>77</td>\n",
       "      <td>16</td>\n",
       "      <td>93.0</td>\n",
       "      <td>NaN</td>\n",
       "    </tr>\n",
       "    <tr>\n",
       "      <th>3433</th>\n",
       "      <td>77</td>\n",
       "      <td>17</td>\n",
       "      <td>94.0</td>\n",
       "      <td>NaN</td>\n",
       "    </tr>\n",
       "    <tr>\n",
       "      <th>3435</th>\n",
       "      <td>77</td>\n",
       "      <td>18</td>\n",
       "      <td>95.0</td>\n",
       "      <td>NaN</td>\n",
       "    </tr>\n",
       "  </tbody>\n",
       "</table>\n",
       "<p>295 rows × 4 columns</p>\n",
       "</div>"
      ],
      "text/plain": [
       "       N   Z     A  Binding Energy/A\n",
       "0      1   0   1.0             0.000\n",
       "2      1   1   2.0          1112.283\n",
       "3      2   1   3.0          2827.265\n",
       "6      3   1   4.0          1720.000\n",
       "9      4   1   5.0          1336.000\n",
       "...   ..  ..   ...               ...\n",
       "3425  76  15  91.0               NaN\n",
       "3428  76  16  92.0               NaN\n",
       "3430  77  16  93.0               NaN\n",
       "3433  77  17  94.0               NaN\n",
       "3435  77  18  95.0               NaN\n",
       "\n",
       "[295 rows x 4 columns]"
      ]
     },
     "execution_count": 435,
     "metadata": {},
     "output_type": "execute_result"
    }
   ],
   "source": [
    "df"
   ]
  },
  {
   "cell_type": "markdown",
   "id": "460b89bd",
   "metadata": {},
   "source": [
    "Now we will drop the rows with NaN values."
   ]
  },
  {
   "cell_type": "code",
   "execution_count": 436,
   "id": "9d0873db",
   "metadata": {
    "ExecuteTime": {
     "end_time": "2022-06-21T01:28:14.380623Z",
     "start_time": "2022-06-21T01:28:14.373837Z"
    }
   },
   "outputs": [],
   "source": [
    "df = df.dropna()"
   ]
  },
  {
   "cell_type": "code",
   "execution_count": 437,
   "id": "d254b018",
   "metadata": {
    "ExecuteTime": {
     "end_time": "2022-06-21T01:28:15.003861Z",
     "start_time": "2022-06-21T01:28:14.978647Z"
    }
   },
   "outputs": [
    {
     "data": {
      "text/html": [
       "<div>\n",
       "<style scoped>\n",
       "    .dataframe tbody tr th:only-of-type {\n",
       "        vertical-align: middle;\n",
       "    }\n",
       "\n",
       "    .dataframe tbody tr th {\n",
       "        vertical-align: top;\n",
       "    }\n",
       "\n",
       "    .dataframe thead th {\n",
       "        text-align: right;\n",
       "    }\n",
       "</style>\n",
       "<table border=\"1\" class=\"dataframe\">\n",
       "  <thead>\n",
       "    <tr style=\"text-align: right;\">\n",
       "      <th></th>\n",
       "      <th>N</th>\n",
       "      <th>Z</th>\n",
       "      <th>A</th>\n",
       "      <th>Binding Energy/A</th>\n",
       "    </tr>\n",
       "  </thead>\n",
       "  <tbody>\n",
       "    <tr>\n",
       "      <th>0</th>\n",
       "      <td>1</td>\n",
       "      <td>0</td>\n",
       "      <td>1.0</td>\n",
       "      <td>0.000</td>\n",
       "    </tr>\n",
       "    <tr>\n",
       "      <th>2</th>\n",
       "      <td>1</td>\n",
       "      <td>1</td>\n",
       "      <td>2.0</td>\n",
       "      <td>1112.283</td>\n",
       "    </tr>\n",
       "    <tr>\n",
       "      <th>3</th>\n",
       "      <td>2</td>\n",
       "      <td>1</td>\n",
       "      <td>3.0</td>\n",
       "      <td>2827.265</td>\n",
       "    </tr>\n",
       "    <tr>\n",
       "      <th>6</th>\n",
       "      <td>3</td>\n",
       "      <td>1</td>\n",
       "      <td>4.0</td>\n",
       "      <td>1720.000</td>\n",
       "    </tr>\n",
       "    <tr>\n",
       "      <th>9</th>\n",
       "      <td>4</td>\n",
       "      <td>1</td>\n",
       "      <td>5.0</td>\n",
       "      <td>1336.000</td>\n",
       "    </tr>\n",
       "    <tr>\n",
       "      <th>13</th>\n",
       "      <td>5</td>\n",
       "      <td>1</td>\n",
       "      <td>6.0</td>\n",
       "      <td>960.000</td>\n",
       "    </tr>\n",
       "    <tr>\n",
       "      <th>23</th>\n",
       "      <td>6</td>\n",
       "      <td>2</td>\n",
       "      <td>8.0</td>\n",
       "      <td>3924.520</td>\n",
       "    </tr>\n",
       "    <tr>\n",
       "      <th>28</th>\n",
       "      <td>7</td>\n",
       "      <td>2</td>\n",
       "      <td>9.0</td>\n",
       "      <td>3349.000</td>\n",
       "    </tr>\n",
       "    <tr>\n",
       "      <th>33</th>\n",
       "      <td>8</td>\n",
       "      <td>2</td>\n",
       "      <td>10.0</td>\n",
       "      <td>2995.000</td>\n",
       "    </tr>\n",
       "    <tr>\n",
       "      <th>39</th>\n",
       "      <td>8</td>\n",
       "      <td>3</td>\n",
       "      <td>11.0</td>\n",
       "      <td>4155.380</td>\n",
       "    </tr>\n",
       "    <tr>\n",
       "      <th>44</th>\n",
       "      <td>9</td>\n",
       "      <td>3</td>\n",
       "      <td>12.0</td>\n",
       "      <td>3791.600</td>\n",
       "    </tr>\n",
       "    <tr>\n",
       "      <th>50</th>\n",
       "      <td>10</td>\n",
       "      <td>3</td>\n",
       "      <td>13.0</td>\n",
       "      <td>3508.000</td>\n",
       "    </tr>\n",
       "    <tr>\n",
       "      <th>56</th>\n",
       "      <td>10</td>\n",
       "      <td>4</td>\n",
       "      <td>14.0</td>\n",
       "      <td>4994.000</td>\n",
       "    </tr>\n",
       "    <tr>\n",
       "      <th>62</th>\n",
       "      <td>11</td>\n",
       "      <td>4</td>\n",
       "      <td>15.0</td>\n",
       "      <td>4541.000</td>\n",
       "    </tr>\n",
       "    <tr>\n",
       "      <th>69</th>\n",
       "      <td>12</td>\n",
       "      <td>4</td>\n",
       "      <td>16.0</td>\n",
       "      <td>4285.000</td>\n",
       "    </tr>\n",
       "    <tr>\n",
       "      <th>76</th>\n",
       "      <td>12</td>\n",
       "      <td>5</td>\n",
       "      <td>17.0</td>\n",
       "      <td>5270.000</td>\n",
       "    </tr>\n",
       "    <tr>\n",
       "      <th>83</th>\n",
       "      <td>13</td>\n",
       "      <td>5</td>\n",
       "      <td>18.0</td>\n",
       "      <td>4977.000</td>\n",
       "    </tr>\n",
       "    <tr>\n",
       "      <th>90</th>\n",
       "      <td>14</td>\n",
       "      <td>5</td>\n",
       "      <td>19.0</td>\n",
       "      <td>4720.000</td>\n",
       "    </tr>\n",
       "    <tr>\n",
       "      <th>115</th>\n",
       "      <td>16</td>\n",
       "      <td>6</td>\n",
       "      <td>22.0</td>\n",
       "      <td>5421.000</td>\n",
       "    </tr>\n",
       "    <tr>\n",
       "      <th>151</th>\n",
       "      <td>18</td>\n",
       "      <td>8</td>\n",
       "      <td>26.0</td>\n",
       "      <td>6497.000</td>\n",
       "    </tr>\n",
       "    <tr>\n",
       "      <th>179</th>\n",
       "      <td>20</td>\n",
       "      <td>9</td>\n",
       "      <td>29.0</td>\n",
       "      <td>6444.000</td>\n",
       "    </tr>\n",
       "    <tr>\n",
       "      <th>1832</th>\n",
       "      <td>92</td>\n",
       "      <td>54</td>\n",
       "      <td>46.0</td>\n",
       "      <td>8110.410</td>\n",
       "    </tr>\n",
       "    <tr>\n",
       "      <th>3028</th>\n",
       "      <td>45</td>\n",
       "      <td>87</td>\n",
       "      <td>32.0</td>\n",
       "      <td>7579.350</td>\n",
       "    </tr>\n",
       "    <tr>\n",
       "      <th>3038</th>\n",
       "      <td>46</td>\n",
       "      <td>87</td>\n",
       "      <td>33.0</td>\n",
       "      <td>7569.240</td>\n",
       "    </tr>\n",
       "    <tr>\n",
       "      <th>3049</th>\n",
       "      <td>46</td>\n",
       "      <td>88</td>\n",
       "      <td>34.0</td>\n",
       "      <td>7576.540</td>\n",
       "    </tr>\n",
       "    <tr>\n",
       "      <th>3069</th>\n",
       "      <td>47</td>\n",
       "      <td>89</td>\n",
       "      <td>36.0</td>\n",
       "      <td>7559.240</td>\n",
       "    </tr>\n",
       "    <tr>\n",
       "      <th>3161</th>\n",
       "      <td>52</td>\n",
       "      <td>94</td>\n",
       "      <td>46.0</td>\n",
       "      <td>7506.540</td>\n",
       "    </tr>\n",
       "    <tr>\n",
       "      <th>3193</th>\n",
       "      <td>54</td>\n",
       "      <td>96</td>\n",
       "      <td>50.0</td>\n",
       "      <td>7478.940</td>\n",
       "    </tr>\n",
       "    <tr>\n",
       "      <th>3200</th>\n",
       "      <td>55</td>\n",
       "      <td>96</td>\n",
       "      <td>51.0</td>\n",
       "      <td>7466.720</td>\n",
       "    </tr>\n",
       "  </tbody>\n",
       "</table>\n",
       "</div>"
      ],
      "text/plain": [
       "       N   Z     A  Binding Energy/A\n",
       "0      1   0   1.0             0.000\n",
       "2      1   1   2.0          1112.283\n",
       "3      2   1   3.0          2827.265\n",
       "6      3   1   4.0          1720.000\n",
       "9      4   1   5.0          1336.000\n",
       "13     5   1   6.0           960.000\n",
       "23     6   2   8.0          3924.520\n",
       "28     7   2   9.0          3349.000\n",
       "33     8   2  10.0          2995.000\n",
       "39     8   3  11.0          4155.380\n",
       "44     9   3  12.0          3791.600\n",
       "50    10   3  13.0          3508.000\n",
       "56    10   4  14.0          4994.000\n",
       "62    11   4  15.0          4541.000\n",
       "69    12   4  16.0          4285.000\n",
       "76    12   5  17.0          5270.000\n",
       "83    13   5  18.0          4977.000\n",
       "90    14   5  19.0          4720.000\n",
       "115   16   6  22.0          5421.000\n",
       "151   18   8  26.0          6497.000\n",
       "179   20   9  29.0          6444.000\n",
       "1832  92  54  46.0          8110.410\n",
       "3028  45  87  32.0          7579.350\n",
       "3038  46  87  33.0          7569.240\n",
       "3049  46  88  34.0          7576.540\n",
       "3069  47  89  36.0          7559.240\n",
       "3161  52  94  46.0          7506.540\n",
       "3193  54  96  50.0          7478.940\n",
       "3200  55  96  51.0          7466.720"
      ]
     },
     "execution_count": 437,
     "metadata": {},
     "output_type": "execute_result"
    }
   ],
   "source": [
    "df"
   ]
  },
  {
   "cell_type": "markdown",
   "id": "cb6fa563",
   "metadata": {
    "ExecuteTime": {
     "end_time": "2022-06-21T00:38:00.755138Z",
     "start_time": "2022-06-21T00:38:00.747317Z"
    }
   },
   "source": [
    "I found that mass number column $``A\"$ does not have values in ascending order. We will arrange the table in ascending order of $A$."
   ]
  },
  {
   "cell_type": "code",
   "execution_count": 438,
   "id": "4b789239",
   "metadata": {
    "ExecuteTime": {
     "end_time": "2022-06-21T01:30:07.249787Z",
     "start_time": "2022-06-21T01:30:07.244508Z"
    }
   },
   "outputs": [],
   "source": [
    "df = df.sort_values(by=['A'])"
   ]
  },
  {
   "cell_type": "code",
   "execution_count": 439,
   "id": "22a510b8",
   "metadata": {
    "ExecuteTime": {
     "end_time": "2022-06-21T01:30:11.539524Z",
     "start_time": "2022-06-21T01:30:11.515160Z"
    }
   },
   "outputs": [
    {
     "data": {
      "text/html": [
       "<div>\n",
       "<style scoped>\n",
       "    .dataframe tbody tr th:only-of-type {\n",
       "        vertical-align: middle;\n",
       "    }\n",
       "\n",
       "    .dataframe tbody tr th {\n",
       "        vertical-align: top;\n",
       "    }\n",
       "\n",
       "    .dataframe thead th {\n",
       "        text-align: right;\n",
       "    }\n",
       "</style>\n",
       "<table border=\"1\" class=\"dataframe\">\n",
       "  <thead>\n",
       "    <tr style=\"text-align: right;\">\n",
       "      <th></th>\n",
       "      <th>N</th>\n",
       "      <th>Z</th>\n",
       "      <th>A</th>\n",
       "      <th>Binding Energy/A</th>\n",
       "    </tr>\n",
       "  </thead>\n",
       "  <tbody>\n",
       "    <tr>\n",
       "      <th>0</th>\n",
       "      <td>1</td>\n",
       "      <td>0</td>\n",
       "      <td>1.0</td>\n",
       "      <td>0.000</td>\n",
       "    </tr>\n",
       "    <tr>\n",
       "      <th>2</th>\n",
       "      <td>1</td>\n",
       "      <td>1</td>\n",
       "      <td>2.0</td>\n",
       "      <td>1112.283</td>\n",
       "    </tr>\n",
       "    <tr>\n",
       "      <th>3</th>\n",
       "      <td>2</td>\n",
       "      <td>1</td>\n",
       "      <td>3.0</td>\n",
       "      <td>2827.265</td>\n",
       "    </tr>\n",
       "    <tr>\n",
       "      <th>6</th>\n",
       "      <td>3</td>\n",
       "      <td>1</td>\n",
       "      <td>4.0</td>\n",
       "      <td>1720.000</td>\n",
       "    </tr>\n",
       "    <tr>\n",
       "      <th>9</th>\n",
       "      <td>4</td>\n",
       "      <td>1</td>\n",
       "      <td>5.0</td>\n",
       "      <td>1336.000</td>\n",
       "    </tr>\n",
       "    <tr>\n",
       "      <th>13</th>\n",
       "      <td>5</td>\n",
       "      <td>1</td>\n",
       "      <td>6.0</td>\n",
       "      <td>960.000</td>\n",
       "    </tr>\n",
       "    <tr>\n",
       "      <th>23</th>\n",
       "      <td>6</td>\n",
       "      <td>2</td>\n",
       "      <td>8.0</td>\n",
       "      <td>3924.520</td>\n",
       "    </tr>\n",
       "    <tr>\n",
       "      <th>28</th>\n",
       "      <td>7</td>\n",
       "      <td>2</td>\n",
       "      <td>9.0</td>\n",
       "      <td>3349.000</td>\n",
       "    </tr>\n",
       "    <tr>\n",
       "      <th>33</th>\n",
       "      <td>8</td>\n",
       "      <td>2</td>\n",
       "      <td>10.0</td>\n",
       "      <td>2995.000</td>\n",
       "    </tr>\n",
       "    <tr>\n",
       "      <th>39</th>\n",
       "      <td>8</td>\n",
       "      <td>3</td>\n",
       "      <td>11.0</td>\n",
       "      <td>4155.380</td>\n",
       "    </tr>\n",
       "    <tr>\n",
       "      <th>44</th>\n",
       "      <td>9</td>\n",
       "      <td>3</td>\n",
       "      <td>12.0</td>\n",
       "      <td>3791.600</td>\n",
       "    </tr>\n",
       "    <tr>\n",
       "      <th>50</th>\n",
       "      <td>10</td>\n",
       "      <td>3</td>\n",
       "      <td>13.0</td>\n",
       "      <td>3508.000</td>\n",
       "    </tr>\n",
       "    <tr>\n",
       "      <th>56</th>\n",
       "      <td>10</td>\n",
       "      <td>4</td>\n",
       "      <td>14.0</td>\n",
       "      <td>4994.000</td>\n",
       "    </tr>\n",
       "    <tr>\n",
       "      <th>62</th>\n",
       "      <td>11</td>\n",
       "      <td>4</td>\n",
       "      <td>15.0</td>\n",
       "      <td>4541.000</td>\n",
       "    </tr>\n",
       "    <tr>\n",
       "      <th>69</th>\n",
       "      <td>12</td>\n",
       "      <td>4</td>\n",
       "      <td>16.0</td>\n",
       "      <td>4285.000</td>\n",
       "    </tr>\n",
       "    <tr>\n",
       "      <th>76</th>\n",
       "      <td>12</td>\n",
       "      <td>5</td>\n",
       "      <td>17.0</td>\n",
       "      <td>5270.000</td>\n",
       "    </tr>\n",
       "    <tr>\n",
       "      <th>83</th>\n",
       "      <td>13</td>\n",
       "      <td>5</td>\n",
       "      <td>18.0</td>\n",
       "      <td>4977.000</td>\n",
       "    </tr>\n",
       "    <tr>\n",
       "      <th>90</th>\n",
       "      <td>14</td>\n",
       "      <td>5</td>\n",
       "      <td>19.0</td>\n",
       "      <td>4720.000</td>\n",
       "    </tr>\n",
       "    <tr>\n",
       "      <th>115</th>\n",
       "      <td>16</td>\n",
       "      <td>6</td>\n",
       "      <td>22.0</td>\n",
       "      <td>5421.000</td>\n",
       "    </tr>\n",
       "    <tr>\n",
       "      <th>151</th>\n",
       "      <td>18</td>\n",
       "      <td>8</td>\n",
       "      <td>26.0</td>\n",
       "      <td>6497.000</td>\n",
       "    </tr>\n",
       "    <tr>\n",
       "      <th>179</th>\n",
       "      <td>20</td>\n",
       "      <td>9</td>\n",
       "      <td>29.0</td>\n",
       "      <td>6444.000</td>\n",
       "    </tr>\n",
       "    <tr>\n",
       "      <th>3028</th>\n",
       "      <td>45</td>\n",
       "      <td>87</td>\n",
       "      <td>32.0</td>\n",
       "      <td>7579.350</td>\n",
       "    </tr>\n",
       "    <tr>\n",
       "      <th>3038</th>\n",
       "      <td>46</td>\n",
       "      <td>87</td>\n",
       "      <td>33.0</td>\n",
       "      <td>7569.240</td>\n",
       "    </tr>\n",
       "    <tr>\n",
       "      <th>3049</th>\n",
       "      <td>46</td>\n",
       "      <td>88</td>\n",
       "      <td>34.0</td>\n",
       "      <td>7576.540</td>\n",
       "    </tr>\n",
       "    <tr>\n",
       "      <th>3069</th>\n",
       "      <td>47</td>\n",
       "      <td>89</td>\n",
       "      <td>36.0</td>\n",
       "      <td>7559.240</td>\n",
       "    </tr>\n",
       "    <tr>\n",
       "      <th>1832</th>\n",
       "      <td>92</td>\n",
       "      <td>54</td>\n",
       "      <td>46.0</td>\n",
       "      <td>8110.410</td>\n",
       "    </tr>\n",
       "    <tr>\n",
       "      <th>3161</th>\n",
       "      <td>52</td>\n",
       "      <td>94</td>\n",
       "      <td>46.0</td>\n",
       "      <td>7506.540</td>\n",
       "    </tr>\n",
       "    <tr>\n",
       "      <th>3193</th>\n",
       "      <td>54</td>\n",
       "      <td>96</td>\n",
       "      <td>50.0</td>\n",
       "      <td>7478.940</td>\n",
       "    </tr>\n",
       "    <tr>\n",
       "      <th>3200</th>\n",
       "      <td>55</td>\n",
       "      <td>96</td>\n",
       "      <td>51.0</td>\n",
       "      <td>7466.720</td>\n",
       "    </tr>\n",
       "  </tbody>\n",
       "</table>\n",
       "</div>"
      ],
      "text/plain": [
       "       N   Z     A  Binding Energy/A\n",
       "0      1   0   1.0             0.000\n",
       "2      1   1   2.0          1112.283\n",
       "3      2   1   3.0          2827.265\n",
       "6      3   1   4.0          1720.000\n",
       "9      4   1   5.0          1336.000\n",
       "13     5   1   6.0           960.000\n",
       "23     6   2   8.0          3924.520\n",
       "28     7   2   9.0          3349.000\n",
       "33     8   2  10.0          2995.000\n",
       "39     8   3  11.0          4155.380\n",
       "44     9   3  12.0          3791.600\n",
       "50    10   3  13.0          3508.000\n",
       "56    10   4  14.0          4994.000\n",
       "62    11   4  15.0          4541.000\n",
       "69    12   4  16.0          4285.000\n",
       "76    12   5  17.0          5270.000\n",
       "83    13   5  18.0          4977.000\n",
       "90    14   5  19.0          4720.000\n",
       "115   16   6  22.0          5421.000\n",
       "151   18   8  26.0          6497.000\n",
       "179   20   9  29.0          6444.000\n",
       "3028  45  87  32.0          7579.350\n",
       "3038  46  87  33.0          7569.240\n",
       "3049  46  88  34.0          7576.540\n",
       "3069  47  89  36.0          7559.240\n",
       "1832  92  54  46.0          8110.410\n",
       "3161  52  94  46.0          7506.540\n",
       "3193  54  96  50.0          7478.940\n",
       "3200  55  96  51.0          7466.720"
      ]
     },
     "execution_count": 439,
     "metadata": {},
     "output_type": "execute_result"
    }
   ],
   "source": [
    "df"
   ]
  },
  {
   "cell_type": "markdown",
   "id": "c6d2071a",
   "metadata": {},
   "source": [
    "The binding energy per nucleon can be written as \n",
    "$$\\frac{E_{\\rm B}}{A}=a_{\\rm {V}}+a_{\\rm {S}}A^{-1/3}+a_{\\rm {C}}{\\frac {Z(Z-1)}{A^{4/3}}}+a_{\\rm {A}}{\\frac {(N-Z)^{2}}{A^2}}+a_p A^{-3/2}$$\n",
    "Let us consider $A$ is the input variable and $a_{\\rm V}, a_{\\rm S}, a_{\\rm C}, a_{\\rm A}$ and $a_{\\rm p}$ are the coefficients to be determined.\n",
    "Consider \n",
    "$$\n",
    "\\begin{align}\n",
    "    a_{\\rm V} &=& a_1 \\\\ \n",
    "    a_{\\rm S} &=& a_2 \\\\\n",
    "    a_{\\rm C} &=& a_3 \\\\\n",
    "    a_{\\rm A} &=& a_4 \\\\\n",
    "    a_{\\rm p} &=& a_5 \\\\\n",
    "    \\frac{E_{\\rm B}}{A} &=& y.\n",
    "\\end{align}\n",
    "$$\n",
    "We can construct a $n \\times 5$ matrix which we write as ${X}$ where each columns of the matrix are values $1, A^{-1/3},{\\frac {Z(Z-1)}{A^{4/3}}},{\\frac {(N-Z)^{2}}{A^2}}, {\\rm and\\ } A^{-3/2}$. $n$ is the number of data points we have which is 55. Similarly we can construct $m \\times 1$ vectors, $\\vec{y}$ and $\\vec{c}$, where the elements of $\\vec{y}$ are $\\frac{E_{\\rm B}}{A}$ and \n",
    "$$\n",
    "\\vec{c}=\n",
    "\\begin{bmatrix} \n",
    "a_1\\\\\n",
    "a_2\\\\\n",
    "a_3\\\\                      \n",
    "a_4\\\\\n",
    "a_5\n",
    "\\end{bmatrix}\n",
    "$$  \n",
    "Then essentially we are performing polynomial regression of equation $\\vec{y} = X\\vec{c}$"
   ]
  },
  {
   "cell_type": "markdown",
   "id": "f9bab6cb",
   "metadata": {},
   "source": [
    "First we create a $X$."
   ]
  },
  {
   "cell_type": "code",
   "execution_count": 440,
   "id": "f781461a",
   "metadata": {
    "ExecuteTime": {
     "end_time": "2022-06-21T01:30:39.238700Z",
     "start_time": "2022-06-21T01:30:39.230642Z"
    }
   },
   "outputs": [
    {
     "name": "stdout",
     "output_type": "stream",
     "text": [
      "(29,)\n",
      "[0.       1.112283 2.827265 1.72     1.336    0.96     3.92452  3.349\n",
      " 2.995    4.15538  3.7916   3.508    4.994    4.541    4.285    5.27\n",
      " 4.977    4.72     5.421    6.497    6.444    7.57935  7.56924  7.57654\n",
      " 7.55924  8.11041  7.50654  7.47894  7.46672 ]\n"
     ]
    }
   ],
   "source": [
    "N = df['N'].to_numpy()\n",
    "Z = df['Z'].to_numpy()\n",
    "A = df['A'].to_numpy()\n",
    "y = df['Binding Energy/A'].to_numpy()/1000 # I am using the dimension of energy in MeV.\n",
    "print(y.shape)\n",
    "print(y)"
   ]
  },
  {
   "cell_type": "code",
   "execution_count": 441,
   "id": "7a5807a5",
   "metadata": {
    "ExecuteTime": {
     "end_time": "2022-06-21T01:30:40.912531Z",
     "start_time": "2022-06-21T01:30:40.903681Z"
    }
   },
   "outputs": [
    {
     "name": "stdout",
     "output_type": "stream",
     "text": [
      "[[1.         1.         0.         1.         1.        ]\n",
      " [1.         0.79370053 0.         0.         0.35355339]\n",
      " [1.         0.69336127 0.         0.11111111 0.19245009]\n",
      " [1.         0.62996052 0.         0.25       0.125     ]\n",
      " [1.         0.58480355 0.         0.36       0.08944272]]\n",
      "(29, 5)\n"
     ]
    }
   ],
   "source": [
    "X = np.ones((len(y), 5))\n",
    "X[:, 0] = 1\n",
    "X[:, 1] = A**(-1/3)\n",
    "X[:, 2] = Z*(Z-1)/A**(4/3)\n",
    "X[:, 3] = ((N-Z)**2)/A**2\n",
    "X[:, 4] = A**(-3/2)\n",
    "print(X[:5])\n",
    "print(X.shape)"
   ]
  },
  {
   "cell_type": "code",
   "execution_count": 442,
   "id": "d5f2b267",
   "metadata": {
    "ExecuteTime": {
     "end_time": "2022-06-21T01:30:42.004984Z",
     "start_time": "2022-06-21T01:30:41.999817Z"
    }
   },
   "outputs": [
    {
     "data": {
      "text/plain": [
       "29"
      ]
     },
     "execution_count": 442,
     "metadata": {},
     "output_type": "execute_result"
    }
   ],
   "source": [
    "n = len(y)\n",
    "n"
   ]
  },
  {
   "cell_type": "code",
   "execution_count": 443,
   "id": "80984a70",
   "metadata": {
    "ExecuteTime": {
     "end_time": "2022-06-21T01:30:43.445144Z",
     "start_time": "2022-06-21T01:30:43.441778Z"
    }
   },
   "outputs": [],
   "source": [
    "import matplotlib.pyplot as plt"
   ]
  },
  {
   "cell_type": "code",
   "execution_count": 449,
   "id": "0d586ca1",
   "metadata": {
    "ExecuteTime": {
     "end_time": "2022-06-21T01:31:17.516589Z",
     "start_time": "2022-06-21T01:31:17.401385Z"
    }
   },
   "outputs": [
    {
     "data": {
      "image/png": "[encoded data removed]",
      "text/plain": [
       "<Figure size 432x288 with 1 Axes>"
      ]
     },
     "metadata": {
      "needs_background": "light"
     },
     "output_type": "display_data"
    }
   ],
   "source": [
    "plt.plot(A, y, 'b-')\n",
    "plt.xlabel(r'$A$')\n",
    "plt.ylabel(r'$\\frac{E_B}{A}$(MeV/A)')\n",
    "plt.show()\n",
    "plt.show()"
   ]
  },
  {
   "cell_type": "markdown",
   "id": "7de5a0ee",
   "metadata": {},
   "source": [
    "We can now use the scikit library to perform polynomial fit."
   ]
  },
  {
   "cell_type": "code",
   "execution_count": 447,
   "id": "53cc5fde",
   "metadata": {
    "ExecuteTime": {
     "end_time": "2022-06-21T01:31:03.888769Z",
     "start_time": "2022-06-21T01:31:03.882203Z"
    }
   },
   "outputs": [],
   "source": [
    "import sklearn.linear_model as skl\n",
    "from sklearn.metrics import mean_squared_error, r2_score, mean_absolute_error"
   ]
  },
  {
   "cell_type": "code",
   "execution_count": 448,
   "id": "964dd154",
   "metadata": {
    "ExecuteTime": {
     "end_time": "2022-06-21T01:31:05.005408Z",
     "start_time": "2022-06-21T01:31:04.991707Z"
    }
   },
   "outputs": [
    {
     "name": "stdout",
     "output_type": "stream",
     "text": [
      "0.0 -15.9146581376829 0.043419837853031495 -1.362561947612564 6.237106013469953\n",
      "[0.23493421 0.84872573 1.28937647 1.68843965 2.03544116 2.33567261\n",
      " 3.25814995 3.43917746 3.59886138 4.0192007  4.1425647  4.25322418\n",
      " 4.55608774 4.6466805  4.72904969 4.96348814 5.03340248 5.09764293\n",
      " 5.39543149 5.78005613 5.97401514 7.14718608 7.3121937  7.33277811\n",
      " 7.49033898 6.67750538 8.02045993 8.16112154 8.2138218 ]\n",
      "RMSE= 0.6275192760849303\n",
      "MAE= 0.48463824717250104\n",
      "$R^2=$ 0.9267026472231495\n"
     ]
    }
   ],
   "source": [
    "model = skl.LinearRegression()\n",
    "reg = model.fit(X, y)\n",
    "a1, a2, a3, a4, a5 = reg.coef_\n",
    "y_from_fit = reg.predict(X)\n",
    "print(a1, a2, a3, a4, a5)\n",
    "print(y_from_fit)\n",
    "print(r'RMSE=', mean_squared_error(y, y_from_fit, squared=False))\n",
    "print(r'MAE=', mean_absolute_error(y, y_from_fit))\n",
    "print(r'$R^2=$',r2_score(y, y_from_fit))"
   ]
  },
  {
   "cell_type": "code",
   "execution_count": 456,
   "id": "400ee07e",
   "metadata": {
    "ExecuteTime": {
     "end_time": "2022-06-21T01:33:21.160930Z",
     "start_time": "2022-06-21T01:33:21.043533Z"
    }
   },
   "outputs": [
    {
     "data": {
      "image/png": "[encoded data removed]",
      "text/plain": [
       "<Figure size 432x288 with 1 Axes>"
      ]
     },
     "metadata": {
      "needs_background": "light"
     },
     "output_type": "display_data"
    }
   ],
   "source": [
    "plt.plot(A, y, 'b-', label='data')\n",
    "plt.plot(A, y_from_fit, 'r-.', label='fit')\n",
    "plt.xlabel(r'$A$')\n",
    "plt.ylabel(r'$\\frac{E_B}{A}$')\n",
    "plt.legend(loc='best')\n",
    "plt.title(\"Gradient Descent Regression\")\n",
    "plt.show()"
   ]
  },
  {
   "cell_type": "markdown",
   "id": "f565002c",
   "metadata": {
    "ExecuteTime": {
     "end_time": "2022-06-20T23:32:29.645747Z",
     "start_time": "2022-06-20T23:32:29.640683Z"
    }
   },
   "source": [
    "## In the spirit of machine learning jargon:"
   ]
  },
  {
   "cell_type": "code",
   "execution_count": 451,
   "id": "176a82ec",
   "metadata": {
    "ExecuteTime": {
     "end_time": "2022-06-21T01:31:52.363093Z",
     "start_time": "2022-06-21T01:31:52.349029Z"
    }
   },
   "outputs": [
    {
     "name": "stdout",
     "output_type": "stream",
     "text": [
      "(23, 5)\n",
      "(6, 5)\n",
      "(23,)\n",
      "(6,)\n"
     ]
    }
   ],
   "source": [
    "from sklearn.model_selection import train_test_split \n",
    "# splits the training and test data set in 80% : 20%\n",
    "# assign random_state to any value.This ensures consistency.\n",
    "X_train, X_test, Y_train, Y_test = train_test_split(X, y, test_size = 0.2, random_state=5)\n",
    "print(X_train.shape)\n",
    "print(X_test.shape)\n",
    "print(Y_train.shape)\n",
    "print(Y_test.shape)"
   ]
  },
  {
   "cell_type": "code",
   "execution_count": 452,
   "id": "1c7d0c48",
   "metadata": {
    "ExecuteTime": {
     "end_time": "2022-06-21T01:31:54.445322Z",
     "start_time": "2022-06-21T01:31:54.428665Z"
    }
   },
   "outputs": [
    {
     "name": "stdout",
     "output_type": "stream",
     "text": [
      "0.0 -16.954616840004377 0.05943259260309475 -2.3548888819298153 7.459408157307695\n",
      "The model performance for training set\n",
      "--------------------------------------\n",
      "RMSE is 0.6253124776122847\n",
      "R2 score is 0.9243941231827375\n",
      "\n",
      "\n",
      "The model performance for test set\n",
      "--------------------------------------\n",
      "RMSE is 0.787328014265682\n",
      "R2 score is 0.8149740230751142\n"
     ]
    }
   ],
   "source": [
    "model_train = skl.LinearRegression()\n",
    "reg_train = model_train.fit(X_train, Y_train)\n",
    "a1, a2, a3, a4, a5 = reg_train.coef_\n",
    "y_train_predict = reg_train.predict(X_train) \n",
    "\n",
    "print(a1, a2, a3, a4, a5)\n",
    "print(\"The model performance for training set\")\n",
    "print(\"--------------------------------------\")\n",
    "print('RMSE is {}'.format(mean_squared_error(Y_train, y_train_predict, squared=False)))\n",
    "print('R2 score is {}'.format(r2_score(Y_train, y_train_predict)))\n",
    "print('\\n')\n",
    "\n",
    "y_test_predict = reg_train.predict(X_test) \n",
    "\n",
    "print(\"The model performance for test set\")\n",
    "print(\"--------------------------------------\")\n",
    "print('RMSE is {}'.format(mean_squared_error(Y_test, y_test_predict, squared=False)))\n",
    "print('R2 score is {}'.format(r2_score(Y_test, y_test_predict)))"
   ]
  },
  {
   "cell_type": "code",
   "execution_count": 460,
   "id": "da8faecb",
   "metadata": {
    "ExecuteTime": {
     "end_time": "2022-06-21T01:35:08.027930Z",
     "start_time": "2022-06-21T01:35:07.901540Z"
    }
   },
   "outputs": [
    {
     "data": {
      "image/png": "[encoded data removed]",
      "text/plain": [
       "<Figure size 432x288 with 1 Axes>"
      ]
     },
     "metadata": {
      "needs_background": "light"
     },
     "output_type": "display_data"
    }
   ],
   "source": [
    "#Decision Tree Regression\n",
    "from sklearn.tree import DecisionTreeRegressor\n",
    "regr_1=DecisionTreeRegressor(max_depth=5)\n",
    "regr_2=DecisionTreeRegressor(max_depth=7)\n",
    "regr_3=DecisionTreeRegressor(max_depth=9)\n",
    "regr_1.fit(X, y)\n",
    "regr_2.fit(X, y)\n",
    "regr_3.fit(X, y)\n",
    "\n",
    "\n",
    "y_1 = regr_1.predict(X)\n",
    "y_2 = regr_2.predict(X)\n",
    "y_3 = regr_3.predict(X)\n",
    "\n",
    "# Plot the results\n",
    "plt.figure()\n",
    "plt.plot(A, y, color=\"blue\", label=\"Data\")\n",
    "plt.plot(A, y_1, color=\"red\", label=\"max_depth=5\")\n",
    "plt.plot(A, y_2, color=\"green\", label=\"max_depth=7\")\n",
    "plt.plot(A, y_3, color=\"m\", label=\"max_depth=9\")\n",
    "\n",
    "plt.xlabel(r\"$A$\")\n",
    "plt.ylabel(r\"$\\frac{E_B}{A}$(MeV/A)\")\n",
    "plt.title(r\"Decision Tree Regression\")\n",
    "plt.legend()\n",
    "plt.show()"
   ]
  },
  {
   "cell_type": "code",
   "execution_count": null,
   "id": "5090611b",
   "metadata": {},
   "outputs": [],
   "source": []
  }
 ],
 "metadata": {
  "kernelspec": {
   "display_name": "Python 3 (ipykernel)",
   "language": "python",
   "name": "python3"
  },
  "language_info": {
   "codemirror_mode": {
    "name": "ipython",
    "version": 3
   },
   "file_extension": ".py",
   "mimetype": "text/x-python",
   "name": "python",
   "nbconvert_exporter": "python",
   "pygments_lexer": "ipython3",
   "version": "3.9.7"
  }
 },
 "nbformat": 4,
 "nbformat_minor": 5
}
